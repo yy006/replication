{
 "cells": [
  {
   "cell_type": "code",
   "execution_count": 1,
   "metadata": {},
   "outputs": [],
   "source": [
    "%load_ext autoreload\n",
    "%autoreload 2"
   ]
  },
  {
   "cell_type": "code",
   "execution_count": 2,
   "metadata": {},
   "outputs": [
    {
     "name": "stderr",
     "output_type": "stream",
     "text": [
      "/Users/lukelefebure/opt/anaconda3/lib/python3.7/site-packages/tqdm/std.py:666: FutureWarning: The Panel class is removed from pandas. Accessing it from the top-level namespace will also be removed in the next version\n",
      "  from pandas import Panel\n"
     ]
    }
   ],
   "source": [
    "import re\n",
    "\n",
    "import pandas as pd\n",
    "from gensim.corpora import Dictionary\n",
    "from nltk import word_tokenize as nltk_word_tokenize\n",
    "from nltk.tokenize import PunktSentenceTokenizer\n",
    "from tqdm.notebook import tqdm\n",
    "tqdm.pandas()\n",
    "\n",
    "from dynamic_bernoulli_embeddings.training import train_model"
   ]
  },
  {
   "cell_type": "code",
   "execution_count": 3,
   "metadata": {},
   "outputs": [],
   "source": [
    "def _bad_word(word):\n",
    "    if len(word) < 2:\n",
    "        return True\n",
    "    if any(c.isdigit() for c in word):\n",
    "        return True\n",
    "    if \"/\" in word:\n",
    "        return True\n",
    "    return False\n",
    "\n",
    "def word_tokenize(text):\n",
    "    text = re.sub(r\"-\", \" \", text)\n",
    "    text = re.sub(\"co-operation\", \"cooperation\", text)\n",
    "    words = [w.lower().strip(\"'.\") for w in nltk_word_tokenize(text)]\n",
    "    words = [w for w in words if not _bad_word(w)]\n",
    "    return words"
   ]
  },
  {
   "cell_type": "code",
   "execution_count": 5,
   "metadata": {},
   "outputs": [
    {
     "data": {
      "application/vnd.jupyter.widget-view+json": {
       "model_id": "4f122b46797b494791975002ed1aeecc",
       "version_major": 2,
       "version_minor": 0
      },
      "text/plain": [
       "HBox(children=(FloatProgress(value=0.0, max=7507.0), HTML(value='')))"
      ]
     },
     "metadata": {},
     "output_type": "display_data"
    },
    {
     "name": "stdout",
     "output_type": "stream",
     "text": [
      "\n"
     ]
    }
   ],
   "source": [
    "dataset = pd.read_csv(\"data/un-general-debates.csv\")\n",
    "dataset[\"bow\"] = dataset.text.progress_apply(word_tokenize)\n",
    "dataset[\"time\"] = dataset.year - dataset.year.min()"
   ]
  },
  {
   "cell_type": "code",
   "execution_count": 9,
   "metadata": {},
   "outputs": [
    {
     "name": "stdout",
     "output_type": "stream",
     "text": [
      "4770\n"
     ]
    }
   ],
   "source": [
    "# Generate dictionary.\n",
    "dictionary = Dictionary(dataset.bow)\n",
    "dictionary.filter_extremes(no_below=15, no_above=1.)\n",
    "dictionary.compactify()\n",
    "print(len(dictionary))"
   ]
  },
  {
   "cell_type": "code",
   "execution_count": 4,
   "metadata": {},
   "outputs": [],
   "source": [
    "model, loss_history, val_history = train_model(\n",
    "    dataset, dictionary.token2id, validation=.1, num_epochs=2)"
   ]
  }
 ],
 "metadata": {
  "kernelspec": {
   "display_name": "Python 3",
   "language": "python",
   "name": "python3"
  },
  "language_info": {
   "codemirror_mode": {
    "name": "ipython",
    "version": 3
   },
   "file_extension": ".py",
   "mimetype": "text/x-python",
   "name": "python",
   "nbconvert_exporter": "python",
   "pygments_lexer": "ipython3",
   "version": "3.7.4"
  }
 },
 "nbformat": 4,
 "nbformat_minor": 4
}
