{
  "nbformat": 4,
  "nbformat_minor": 0,
  "metadata": {
    "colab": {
      "provenance": []
    },
    "kernelspec": {
      "name": "python3",
      "display_name": "Python 3"
    },
    "language_info": {
      "name": "python"
    }
  },
  "cells": [
    {
      "cell_type": "markdown",
      "source": [
        "www.titech.ac.jp/0/education/graduate-majors/is  \n",
        "1. URLを文字単位に分解する  \n",
        "| w | w | w | . | t | i | t | e | c | h | ...\n",
        "2. 各文字をASCIIコードの16進表記に変換する  \n",
        "['0x77', '0x77', '0x77', '0x2e', '0x74', '0x69', '0x74', '0x65' ...\n",
        "3. ホスト部、パス部それぞれの先頭から、4ビットずつシフトして、出現する値を列挙する  取る値は4bit離す。(12345678→13,24,35,46,57,68)  \n",
        "\n",
        "['77', '77', '77', '77', '77', '72', '2e', 'e7', '74', '46', '69', '97', '74', '46', '65' ...\n",
        "4. ホスト部、パス部それぞれに出現した値（0x00から0xFF）の個数を数え、256次元のベクトルにする\n",
        "5. この二つを連結して、512次元のベクトルにする\n",
        "6. ベクトルを正規化する"
      ],
      "metadata": {
        "id": "oSUFGo41p6zC"
      }
    },
    {
      "cell_type": "markdown",
      "source": [
        "メモ：\n",
        "- 正規化するとURL長の情報は失われるが、含まれる値の種類数の大小で判断できる  \n",
        "- 4ビットずつ動かしているので、URLの並びの情報も保持できる  \n",
        "二文字のつながりの部分を残して置ける\n",
        "\n",
        "ホスト部とパス部分ける理由\n",
        "- この二つは出てくる文字列の性質が違う  \n",
        "ホスト、ドメインとディレクトリ、ファイル"
      ],
      "metadata": {
        "id": "Ss1A4_zyIqWV"
      }
    },
    {
      "cell_type": "code",
      "source": [
        "import numpy as np\n",
        "import math\n",
        "\n",
        "def url_to_vector(url):\n",
        "    # プロトコル名を削除\n",
        "    if \"://\" in url:\n",
        "        url = url.split(\"://\", 1)[1]\n",
        "\n",
        "    # URLをホスト部とパス部に分割\n",
        "    parts = url.split('/', 1)\n",
        "    host = parts[0]\n",
        "    path = parts[1] if len(parts) > 1 else \"\"  # '/'がない場合は空文字列を設定\n",
        "\n",
        "\n",
        "    # 文字単位に分割してASCIIコードの16進表記に変換\n",
        "    host_hex = [hex(ord(c)) for c in host]\n",
        "    path_hex = [hex(ord(c)) for c in path]\n",
        "   # print(host_hex)\n",
        "\n",
        "    # 0xを取り除いて連結\n",
        "    host_str = ''.join([h[2:] for h in host_hex])  # '0x'を取り除いて連結\n",
        "    path_str = ''.join([p[2:] for p in path_hex])  # '0x'を取り除いて連結\n",
        "  # print(host_str)\n",
        "\n",
        "    # 4ビットずつ右にシフトを繰り返し、出現する値をリストで列挙\n",
        "    host_values = [host_str[i:i+2] for i in range(0, len(host_str) - 1, 2)]\n",
        "    path_values = [path_str[i:i+2] for i in range(0, len(path_str) - 1, 2)]\n",
        "\n",
        "   # print(host_values)\n",
        "\n",
        "    # 出現した値の個数を数える\n",
        "    def count_values(values):\n",
        "        count_vector = [0] * 256\n",
        "        for v in values:\n",
        "            index = int(v, 16)\n",
        "            count_vector[index] += 1\n",
        "        return count_vector\n",
        "\n",
        "    host_vector = count_values(host_values)\n",
        "    path_vector = count_values(path_values)\n",
        "\n",
        "    # 2つのベクトルを連結\n",
        "    combined_vector = host_vector + path_vector\n",
        "\n",
        "    # ベクトルを正規化\n",
        "    norm = math.sqrt(sum([x**2 for x in combined_vector]))\n",
        "    normalized_vector = [x/norm for x in combined_vector]\n",
        "\n",
        "    return normalized_vector\n",
        "\n",
        "# 使用例\n",
        "url = \"www.titech.ac.jp/0/education/graduate-majors/is\"\n",
        "normalized_vector = url_to_vector(url)\n",
        "print(\"Vector:\", normalized_vector)"
      ],
      "metadata": {
        "colab": {
          "base_uri": "https://localhost:8080/"
        },
        "id": "PYmW9iqDru4O",
        "outputId": "00b07f4c-f2b9-41a4-e99a-ab2f0c100f76"
      },
      "execution_count": 14,
      "outputs": [
        {
          "output_type": "stream",
          "name": "stdout",
          "text": [
            "Vector: [0.0, 0.0, 0.0, 0.0, 0.0, 0.0, 0.0, 0.0, 0.0, 0.0, 0.0, 0.0, 0.0, 0.0, 0.0, 0.0, 0.0, 0.0, 0.0, 0.0, 0.0, 0.0, 0.0, 0.0, 0.0, 0.0, 0.0, 0.0, 0.0, 0.0, 0.0, 0.0, 0.0, 0.0, 0.0, 0.0, 0.0, 0.0, 0.0, 0.0, 0.0, 0.0, 0.0, 0.0, 0.0, 0.0, 0.3061862178478973, 0.0, 0.0, 0.0, 0.0, 0.0, 0.0, 0.0, 0.0, 0.0, 0.0, 0.0, 0.0, 0.0, 0.0, 0.0, 0.0, 0.0, 0.0, 0.0, 0.0, 0.0, 0.0, 0.0, 0.0, 0.0, 0.0, 0.0, 0.0, 0.0, 0.0, 0.0, 0.0, 0.0, 0.0, 0.0, 0.0, 0.0, 0.0, 0.0, 0.0, 0.0, 0.0, 0.0, 0.0, 0.0, 0.0, 0.0, 0.0, 0.0, 0.0, 0.10206207261596577, 0.0, 0.20412414523193154, 0.0, 0.10206207261596577, 0.0, 0.0, 0.10206207261596577, 0.10206207261596577, 0.10206207261596577, 0.0, 0.0, 0.0, 0.0, 0.0, 0.10206207261596577, 0.0, 0.0, 0.0, 0.20412414523193154, 0.0, 0.0, 0.3061862178478973, 0.0, 0.0, 0.0, 0.0, 0.0, 0.0, 0.0, 0.0, 0.0, 0.0, 0.0, 0.0, 0.0, 0.0, 0.0, 0.0, 0.0, 0.0, 0.0, 0.0, 0.0, 0.0, 0.0, 0.0, 0.0, 0.0, 0.0, 0.0, 0.0, 0.0, 0.0, 0.0, 0.0, 0.0, 0.0, 0.0, 0.0, 0.0, 0.0, 0.0, 0.0, 0.0, 0.0, 0.0, 0.0, 0.0, 0.0, 0.0, 0.0, 0.0, 0.0, 0.0, 0.0, 0.0, 0.0, 0.0, 0.0, 0.0, 0.0, 0.0, 0.0, 0.0, 0.0, 0.0, 0.0, 0.0, 0.0, 0.0, 0.0, 0.0, 0.0, 0.0, 0.0, 0.0, 0.0, 0.0, 0.0, 0.0, 0.0, 0.0, 0.0, 0.0, 0.0, 0.0, 0.0, 0.0, 0.0, 0.0, 0.0, 0.0, 0.0, 0.0, 0.0, 0.0, 0.0, 0.0, 0.0, 0.0, 0.0, 0.0, 0.0, 0.0, 0.0, 0.0, 0.0, 0.0, 0.0, 0.0, 0.0, 0.0, 0.0, 0.0, 0.0, 0.0, 0.0, 0.0, 0.0, 0.0, 0.0, 0.0, 0.0, 0.0, 0.0, 0.0, 0.0, 0.0, 0.0, 0.0, 0.0, 0.0, 0.0, 0.0, 0.0, 0.0, 0.0, 0.0, 0.0, 0.0, 0.0, 0.0, 0.0, 0.0, 0.0, 0.0, 0.0, 0.0, 0.0, 0.0, 0.0, 0.0, 0.0, 0.0, 0.0, 0.0, 0.0, 0.0, 0.0, 0.0, 0.0, 0.0, 0.0, 0.0, 0.0, 0.0, 0.0, 0.0, 0.0, 0.0, 0.0, 0.0, 0.0, 0.0, 0.0, 0.0, 0.0, 0.0, 0.0, 0.0, 0.0, 0.0, 0.0, 0.10206207261596577, 0.0, 0.3061862178478973, 0.10206207261596577, 0.0, 0.0, 0.0, 0.0, 0.0, 0.0, 0.0, 0.0, 0.0, 0.0, 0.0, 0.0, 0.0, 0.0, 0.0, 0.0, 0.0, 0.0, 0.0, 0.0, 0.0, 0.0, 0.0, 0.0, 0.0, 0.0, 0.0, 0.0, 0.0, 0.0, 0.0, 0.0, 0.0, 0.0, 0.0, 0.0, 0.0, 0.0, 0.0, 0.0, 0.0, 0.0, 0.0, 0.0, 0.0, 0.0, 0.0, 0.0, 0.4082482904638631, 0.0, 0.10206207261596577, 0.20412414523193154, 0.20412414523193154, 0.0, 0.10206207261596577, 0.0, 0.20412414523193154, 0.10206207261596577, 0.0, 0.0, 0.10206207261596577, 0.10206207261596577, 0.20412414523193154, 0.0, 0.0, 0.20412414523193154, 0.20412414523193154, 0.20412414523193154, 0.20412414523193154, 0.0, 0.0, 0.0, 0.0, 0.0, 0.0, 0.0, 0.0, 0.0, 0.0, 0.0, 0.0, 0.0, 0.0, 0.0, 0.0, 0.0, 0.0, 0.0, 0.0, 0.0, 0.0, 0.0, 0.0, 0.0, 0.0, 0.0, 0.0, 0.0, 0.0, 0.0, 0.0, 0.0, 0.0, 0.0, 0.0, 0.0, 0.0, 0.0, 0.0, 0.0, 0.0, 0.0, 0.0, 0.0, 0.0, 0.0, 0.0, 0.0, 0.0, 0.0, 0.0, 0.0, 0.0, 0.0, 0.0, 0.0, 0.0, 0.0, 0.0, 0.0, 0.0, 0.0, 0.0, 0.0, 0.0, 0.0, 0.0, 0.0, 0.0, 0.0, 0.0, 0.0, 0.0, 0.0, 0.0, 0.0, 0.0, 0.0, 0.0, 0.0, 0.0, 0.0, 0.0, 0.0, 0.0, 0.0, 0.0, 0.0, 0.0, 0.0, 0.0, 0.0, 0.0, 0.0, 0.0, 0.0, 0.0, 0.0, 0.0, 0.0, 0.0, 0.0, 0.0, 0.0, 0.0, 0.0, 0.0, 0.0, 0.0, 0.0, 0.0, 0.0, 0.0, 0.0, 0.0, 0.0, 0.0, 0.0, 0.0, 0.0, 0.0, 0.0, 0.0, 0.0, 0.0, 0.0, 0.0, 0.0, 0.0, 0.0, 0.0, 0.0, 0.0, 0.0, 0.0, 0.0, 0.0]\n"
          ]
        }
      ]
    },
    {
      "cell_type": "markdown",
      "source": [
        "モデルの定義"
      ],
      "metadata": {
        "id": "C8Npl4aYypO4"
      }
    },
    {
      "cell_type": "code",
      "source": [
        "pip install chainer"
      ],
      "metadata": {
        "colab": {
          "base_uri": "https://localhost:8080/"
        },
        "id": "bISOmToE0KsN",
        "outputId": "28a0c013-34c5-411f-b119-186c34041104"
      },
      "execution_count": 15,
      "outputs": [
        {
          "output_type": "stream",
          "name": "stdout",
          "text": [
            "Requirement already satisfied: chainer in /usr/local/lib/python3.10/dist-packages (7.8.1)\n",
            "Requirement already satisfied: setuptools in /usr/local/lib/python3.10/dist-packages (from chainer) (67.7.2)\n",
            "Requirement already satisfied: typing-extensions in /usr/local/lib/python3.10/dist-packages (from chainer) (4.5.0)\n",
            "Requirement already satisfied: filelock in /usr/local/lib/python3.10/dist-packages (from chainer) (3.12.4)\n",
            "Requirement already satisfied: numpy>=1.9.0 in /usr/local/lib/python3.10/dist-packages (from chainer) (1.23.5)\n",
            "Requirement already satisfied: protobuf>=3.0.0 in /usr/local/lib/python3.10/dist-packages (from chainer) (3.20.3)\n",
            "Requirement already satisfied: six>=1.9.0 in /usr/local/lib/python3.10/dist-packages (from chainer) (1.16.0)\n"
          ]
        }
      ]
    },
    {
      "cell_type": "code",
      "source": [
        "from chainer import Chain\n",
        "import chainer.functions as F\n",
        "import chainer.links as L\n",
        "class Model(Chain):\n",
        "      def __init__(self):\n",
        "          super(Model, self).__init__()\n",
        "          with self.init_scope():\n",
        "               self.l1 = L.Linear(None, 256)\n",
        "               self.l2 = L.Linear(None, 256)\n",
        "               self.l3 = L.Linear(None, 2)\n",
        "      def __call__(self, x):\n",
        "          h1 = F.dropout(F.relu(self.l1(x)),\n",
        "                        ratio=0.75)\n",
        "          h2 = F.dropout(F.relu(self.l2(h1)),\n",
        "                        ratio=0.75)\n",
        "          y = self.l3(h2)\n",
        "          return y"
      ],
      "metadata": {
        "id": "sqs4P4RbymmG"
      },
      "execution_count": 16,
      "outputs": []
    },
    {
      "cell_type": "markdown",
      "source": [
        "# 実験\n",
        "\n",
        "データセットとして以下のものを用いる\n",
        "\n",
        "https://www.kaggle.com/datasets/sid321axn/malicious-urls-dataset?resource=download\n",
        "\n",
        "\n",
        "- 良性URL: 428103個\n",
        "- 改ざんURL:  96457個\n",
        "- フィッシングURL: 94111個\n",
        "- マルウェアURL: 32520個\n",
        "\n",
        "の合計651,191個のデータセット\n",
        "\n",
        "複数のデータセットを利用\n",
        "\n",
        "- ISCX-URL-2016\n",
        "- マルウェアドメインブラックリストのデータセット\n",
        "- Phishtankデータセット\n",
        "- PhishStormデータセット\n",
        "\n",
        "今回は良性か悪性かのみ識別する二値分類問題として考える(良性URLは0, それ以外は1)"
      ],
      "metadata": {
        "id": "DtytEA3W2HNE"
      }
    },
    {
      "cell_type": "code",
      "source": [
        "# Googleドライブのマウント\n",
        "from google.colab import drive\n",
        "drive.mount('/content/drive')\n",
        "\n",
        "import sys\n",
        "sys.path.append('/content/drive/My Drive/Colab Notebooks')\n",
        "\n",
        "%cd /content/drive/My Drive/Colab Notebooks\n",
        "\n",
        "import torch\n",
        "device = torch.device('cuda:0' if torch.cuda.is_available() else 'cpu')"
      ],
      "metadata": {
        "colab": {
          "base_uri": "https://localhost:8080/"
        },
        "id": "jaKDFvzY2OKH",
        "outputId": "55daf2b1-a7a4-41aa-ad4f-fbe361759819"
      },
      "execution_count": 17,
      "outputs": [
        {
          "output_type": "stream",
          "name": "stdout",
          "text": [
            "Drive already mounted at /content/drive; to attempt to forcibly remount, call drive.mount(\"/content/drive\", force_remount=True).\n",
            "/content/drive/My Drive/Colab Notebooks\n"
          ]
        }
      ]
    },
    {
      "cell_type": "code",
      "source": [
        "from chainer import Chain, datasets, iterators, optimizers, training\n",
        "from chainer.training import extensions\n",
        "import chainer.functions as F\n",
        "import chainer.links as L\n",
        "import numpy as np\n",
        "import pandas as pd\n",
        "\n",
        "# CSVファイルからデータを読み込む\n",
        "data_path = \"malicious_phish.csv\"\n",
        "df = pd.read_csv(data_path)\n",
        "print(df)"
      ],
      "metadata": {
        "colab": {
          "base_uri": "https://localhost:8080/"
        },
        "id": "V4igcoWRzSXI",
        "outputId": "e63a952e-41f1-4e0d-e917-621fdffe4edc"
      },
      "execution_count": 18,
      "outputs": [
        {
          "output_type": "stream",
          "name": "stdout",
          "text": [
            "                                                      url        type\n",
            "0                                        br-icloud.com.br    phishing\n",
            "1                     mp3raid.com/music/krizz_kaliko.html      benign\n",
            "2                         bopsecrets.org/rexroth/cr/1.htm      benign\n",
            "3       http://www.garage-pirenne.be/index.php?option=...  defacement\n",
            "4       http://adventure-nicaragua.net/index.php?optio...  defacement\n",
            "...                                                   ...         ...\n",
            "651186            xbox360.ign.com/objects/850/850402.html    phishing\n",
            "651187       games.teamxbox.com/xbox-360/1860/Dead-Space/    phishing\n",
            "651188         www.gamespot.com/xbox360/action/deadspace/    phishing\n",
            "651189      en.wikipedia.org/wiki/Dead_Space_(video_game)    phishing\n",
            "651190          www.angelfire.com/goth/devilmaycrytonite/    phishing\n",
            "\n",
            "[651191 rows x 2 columns]\n"
          ]
        }
      ]
    },
    {
      "cell_type": "code",
      "source": [
        "# DataFrameからランダムに60000行を取得\n",
        "df = df.sample(n=60000, random_state=42)\n",
        "\n",
        "print(df)"
      ],
      "metadata": {
        "colab": {
          "base_uri": "https://localhost:8080/"
        },
        "id": "2KI5bxGM5RG6",
        "outputId": "f8560a31-f9e0-4cca-9ac0-d693ea244f34"
      },
      "execution_count": 19,
      "outputs": [
        {
          "output_type": "stream",
          "name": "stdout",
          "text": [
            "                                                      url        type\n",
            "536448             http://37.49.226.178/deusbins/deus.sh4     malware\n",
            "40630   medical-dictionary.thefreedictionary.com/Galt+...      benign\n",
            "630496                         www.jscape.com/sshfactory/    phishing\n",
            "426724  http://www.wsnc.org.au/component/jcalpro/view/983  defacement\n",
            "184034  virtualtourist.com/travel/North_America/Canada...      benign\n",
            "...                                                   ...         ...\n",
            "191920                            kamranweb.com/aviation/      benign\n",
            "374085                                   jesseknowles.com    phishing\n",
            "359150  http://olx.co.id/q-%7Bq%7D/nusa-tenggara-barat...      benign\n",
            "78443                       lewisandtompkins.com/feed.cfm      benign\n",
            "33438      chicago.craigslist.org/nwc/mnu/2715953477.html      benign\n",
            "\n",
            "[60000 rows x 2 columns]\n"
          ]
        }
      ]
    },
    {
      "cell_type": "code",
      "source": [
        "# 'label'列の追加 benign(良性)のものは0, それ以外(悪性)のものは1を付与\n",
        "df['label'] = df['type'].apply(lambda x: 0 if x == 'benign' else 1)\n",
        "\n",
        "urls = df['url'].tolist()\n",
        "labels = df['label'].tolist()  # 0: 良性, 1: 悪性"
      ],
      "metadata": {
        "id": "KAK8tkw846bu"
      },
      "execution_count": 20,
      "outputs": []
    },
    {
      "cell_type": "code",
      "source": [
        "# URLをベクトル化・正規化\n",
        "vectors = np.array([url_to_vector(url) for url in urls], dtype=np.float32)\n",
        "labels = np.array(labels, dtype=np.int32)\n",
        "\n",
        "# データセットの作成\n",
        "dataset = datasets.TupleDataset(vectors, labels)\n",
        "\n",
        "# データセットをトレーニング用と検証用に分割\n",
        "train_dataset, valid_dataset = datasets.split_dataset_random(dataset, int(len(dataset)*0.8), seed=0)\n",
        "\n",
        "# イテレータの設定\n",
        "train_iter = iterators.SerialIterator(train_dataset, batch_size=32)\n",
        "valid_iter = iterators.SerialIterator(valid_dataset, batch_size=32, repeat=False, shuffle=False)\n",
        "\n",
        "# ニューラルネットモデルのインスタンス化\n",
        "model = L.Classifier(Model())\n",
        "\n",
        "# オプティマイザの設定\n",
        "optimizer = optimizers.Adam()\n",
        "optimizer.setup(model)\n",
        "\n",
        "# トレーニングの設定\n",
        "updater = training.StandardUpdater(train_iter, optimizer)\n",
        "trainer = training.Trainer(updater, (20, 'epoch'))\n",
        "\n",
        "# 検証用のイテレータとモデルを使用して、検証の精度と損失を計算するextensionを追加\n",
        "trainer.extend(extensions.Evaluator(valid_iter, model))\n",
        "\n",
        "# ログを出力するextensionを追加\n",
        "trainer.extend(extensions.LogReport())\n",
        "trainer.extend(extensions.PrintReport(['epoch', 'main/loss', 'validation/main/loss', 'main/accuracy', 'validation/main/accuracy']))\n",
        "\n",
        "# トレーニングの実行\n",
        "trainer.run()"
      ],
      "metadata": {
        "colab": {
          "base_uri": "https://localhost:8080/"
        },
        "id": "7B0BaP9W2riT",
        "outputId": "ee4e5b63-5ac2-450b-c59d-0deb1e26ad03"
      },
      "execution_count": 21,
      "outputs": [
        {
          "output_type": "stream",
          "name": "stdout",
          "text": [
            "epoch       main/loss   validation/main/loss  main/accuracy  validation/main/accuracy\n",
            "\u001b[J1           0.410739    0.341199              0.819042       0.856083                  \n",
            "\u001b[J2           0.357923    0.326131              0.849083       0.861167                  \n",
            "\u001b[J3           0.342551    0.31395               0.856792       0.8665                    \n",
            "\u001b[J4           0.331977    0.310088              0.860875       0.869333                  \n",
            "\u001b[J5           0.326012    0.304075              0.863833       0.87225                   \n",
            "\u001b[J6           0.32071     0.298459              0.865729       0.873833                  \n",
            "\u001b[J7           0.314878    0.293046              0.867521       0.876583                  \n",
            "\u001b[J8           0.310965    0.291038              0.869833       0.876333                  \n",
            "\u001b[J9           0.306138    0.288548              0.871896       0.87575                   \n",
            "\u001b[J10          0.303618    0.284337              0.872104       0.87975                   \n",
            "\u001b[J11          0.299648    0.282519              0.875771       0.880667                  \n",
            "\u001b[J12          0.29752     0.280297              0.875313       0.87925                   \n",
            "\u001b[J13          0.295667    0.279339              0.876417       0.88125                   \n",
            "\u001b[J14          0.294099    0.279825              0.876125       0.880083                  \n",
            "\u001b[J15          0.293495    0.276032              0.876812       0.883                     \n",
            "\u001b[J16          0.287303    0.275029              0.878104       0.880667                  \n",
            "\u001b[J17          0.286277    0.277205              0.879417       0.881333                  \n",
            "\u001b[J18          0.287881    0.27896               0.87925        0.879083                  \n",
            "\u001b[J19          0.286408    0.274282              0.879396       0.88125                   \n",
            "\u001b[J20          0.282811    0.271544              0.880542       0.884167                  \n"
          ]
        }
      ]
    },
    {
      "cell_type": "code",
      "source": [],
      "metadata": {
        "id": "It6Mx4VBzXbv"
      },
      "execution_count": 21,
      "outputs": []
    },
    {
      "cell_type": "code",
      "source": [
        "char = 'a'\n",
        "print(ord(char))\n",
        "print(hex(ord(char)))\n",
        "chr(10)"
      ],
      "metadata": {
        "colab": {
          "base_uri": "https://localhost:8080/",
          "height": 70
        },
        "id": "EvtOavdFYGN8",
        "outputId": "68c2b72a-12cc-4091-9c35-0567217ee796"
      },
      "execution_count": 22,
      "outputs": [
        {
          "output_type": "stream",
          "name": "stdout",
          "text": [
            "97\n",
            "0x61\n"
          ]
        },
        {
          "output_type": "execute_result",
          "data": {
            "text/plain": [
              "'\\n'"
            ],
            "application/vnd.google.colaboratory.intrinsic+json": {
              "type": "string"
            }
          },
          "metadata": {},
          "execution_count": 22
        }
      ]
    }
  ]
}